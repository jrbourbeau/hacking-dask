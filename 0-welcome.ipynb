{
 "cells": [
  {
   "cell_type": "markdown",
   "metadata": {
    "slideshow": {
     "slide_type": "slide"
    }
   },
   "source": [
    "<img src=\"images/dask_horizontal.svg\"\n",
    "     width=\"45%\"\n",
    "     alt=\"Dask logo\\\">\n",
    "     \n",
    "# Hacking Dask: Diving into Dask's internals\n",
    "\n",
    "## PyCon 2021\n",
    "\n",
    "## Materials and setup\n",
    "\n",
    "The materials for this tutorial are available at https://github.com/jrbourbeau/hacking-dask.\n",
    "\n",
    "There are two ways to run through the tutorial:\n",
    "\n",
    "- Run locally on your laptop\n",
    "- Run using Binder (no setup required)\n",
    "\n",
    "## About the instructors\n",
    "\n",
    "### [James Bourbeau](https://www.jamesbourbeau.com)\n",
    "#### Lead Open Source Software Engineer, [Coiled](https://coiled.io/)\n",
    "\n",
    "### [Julia Signell](https://jsignell.github.io)\n",
    "#### Head of Open Source, [Saturn Cloud](https://www.saturncloud.io)\n",
    "\n",
    "\n",
    "## Tutorial goals\n",
    "\n",
    "The goal of this tutorial is to cover more advanced features of Dask like task graph optimization, the worker and scheduler plugin system, how to inspect the internal state of a cluster, and more.\n",
    "\n",
    "Attendees should walk away with a deeper understanding of Dask’s internals, an introduction to more advanced features, and ideas of how they can apply these features effectively to their own data intensive workloads.\n",
    "\n",
    "## Outline"
   ]
  }
 ],
 "metadata": {
  "kernelspec": {
   "display_name": "Python 3",
   "language": "python",
   "name": "python3"
  },
  "language_info": {
   "codemirror_mode": {
    "name": "ipython",
    "version": 3
   },
   "file_extension": ".py",
   "mimetype": "text/x-python",
   "name": "python",
   "nbconvert_exporter": "python",
   "pygments_lexer": "ipython3",
   "version": "3.9.2"
  }
 },
 "nbformat": 4,
 "nbformat_minor": 4
}
