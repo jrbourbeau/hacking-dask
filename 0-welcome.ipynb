{
 "cells": [
  {
   "cell_type": "markdown",
   "metadata": {
    "slideshow": {
     "slide_type": "slide"
    }
   },
   "source": [
    "<img src=\"images/dask_horizontal.svg\"\n",
    "     width=\"45%\"\n",
    "     alt=\"Dask logo\\\">\n",
    "     \n",
    "# Hacking Dask: Diving into Dask's internals\n",
    "\n",
    "## PyCon 2021\n",
    "\n",
    "## Materials and setup\n",
    "\n",
    "The materials for this tutorial are available at https://github.com/jrbourbeau/hacking-dask.\n",
    "\n",
    "There are two ways to run through the tutorial:\n",
    "\n",
    "- Run locally on your laptop\n",
    "- Run using Binder (no setup required)\n",
    "\n",
    "## About the instructors\n",
    "\n",
    "#### [Julia Signell](https://jsignell.github.io) &mdash; Head of Open Source, [Saturn Cloud](https://www.saturncloud.io)\n",
    "#### [James Bourbeau](https://www.jamesbourbeau.com) &mdash; Lead Open Source Software Engineer, [Coiled](https://coiled.io/)\n",
    "\n",
    "## Tutorial goals\n",
    "\n",
    "The goal of this tutorial is to cover more advanced features of Dask like task graph optimization, the worker and scheduler plugin system, how to inspect the internal state of a cluster, and more.\n",
    "\n",
    "Attendees should walk away with a deeper understanding of Dask’s internals, an introduction to more advanced features, and ideas of how they can apply these features effectively to their own data intensive workloads.\n",
    "\n",
    "## Outline\n",
    "\n",
    "The tutorial consists of several Jupyter notebooks which we will cover in the order listed below:\n",
    "\n",
    "- [0-welcome.ipynb](0-welcome.ipynb)\n",
    "- [1-overview.ipynb](1-overview.ipynb)\n",
    "- [2-custom-operations.ipynb](2-custom-operations.ipynb)\n",
    "- [3-graph-optimization.ipynb](3-graph-optimization.ipynb)\n",
    "- [4-custom-collections.ipynb](4-custom-collections.ipynb)\n",
    "- [5-distributed-scheduler.ipynb](5-distributed-scheduler.ipynb)\n",
    "\n",
    "Each notebook also contains hands-on exercises to illustrate the concepts being presented. Let's look at our first example to get a sense for how they work.\n",
    "\n",
    "### Exercise: Print \"Hello world!\"\n",
    "\n",
    "Use Python to print the string \"Hello world!\" to the screen."
   ]
  },
  {
   "cell_type": "code",
   "execution_count": null,
   "metadata": {},
   "outputs": [],
   "source": [
    "# Your solution here"
   ]
  },
  {
   "cell_type": "code",
   "execution_count": null,
   "metadata": {
    "jupyter": {
     "source_hidden": true
    },
    "tags": []
   },
   "outputs": [],
   "source": [
    "# A solution\n",
    "print(\"Hello world!\")"
   ]
  },
  {
   "cell_type": "markdown",
   "metadata": {},
   "source": [
    "### Next steps\n",
    "\n",
    "Let's start by going through a brief overview of Dask's basics over in [1-overview.ipynb](1-overview.ipynb)."
   ]
  }
 ],
 "metadata": {
  "kernelspec": {
   "display_name": "Python 3",
   "language": "python",
   "name": "python3"
  },
  "language_info": {
   "codemirror_mode": {
    "name": "ipython",
    "version": 3
   },
   "file_extension": ".py",
   "mimetype": "text/x-python",
   "name": "python",
   "nbconvert_exporter": "python",
   "pygments_lexer": "ipython3",
   "version": "3.9.2"
  }
 },
 "nbformat": 4,
 "nbformat_minor": 4
}
