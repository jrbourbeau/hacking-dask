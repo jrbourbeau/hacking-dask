{
 "cells": [
  {
   "cell_type": "markdown",
   "id": "9d19f489-59e6-48c7-aade-25530dcf253c",
   "metadata": {},
   "source": [
    "# Hacking Dask clusters"
   ]
  },
  {
   "cell_type": "markdown",
   "id": "75f774c1-bf94-4614-996c-168e814ae954",
   "metadata": {},
   "source": [
    "# Inspecting the cluster's state"
   ]
  },
  {
   "cell_type": "code",
   "execution_count": 2,
   "id": "b4073fc4-62ed-4ac3-9007-e8a78b96e46a",
   "metadata": {},
   "outputs": [],
   "source": [
    "from dask.distributed import LocalCluster, Client, Worker\n",
    "\n",
    "cluster = LocalCluster()\n",
    "# cluster = LocalCluster(worker_class=Worker)\n",
    "client = Client(cluster)"
   ]
  },
  {
   "cell_type": "code",
   "execution_count": 3,
   "id": "98cd7868-ceb2-4066-bb8f-094ad3fc0053",
   "metadata": {},
   "outputs": [],
   "source": [
    "import dask.array as da\n",
    "\n",
    "x = da.random.random((100, 100), chunks=(50, 50))\n",
    "x = x.persist()"
   ]
  },
  {
   "cell_type": "code",
   "execution_count": 5,
   "id": "5b842c4f-64c6-4a0b-b068-45332552d6a9",
   "metadata": {},
   "outputs": [
    {
     "data": {
      "text/plain": [
       "distributed.scheduler.Scheduler"
      ]
     },
     "execution_count": 5,
     "metadata": {},
     "output_type": "execute_result"
    }
   ],
   "source": [
    "scheduler = cluster.scheduler\n",
    "type(scheduler)"
   ]
  },
  {
   "cell_type": "markdown",
   "id": "6b8e8155-68a2-4cfc-8cfb-424180e98bdb",
   "metadata": {},
   "source": [
    "Note that cluster manager classes won't _always_ have direct access to the `Scheduler` instance (e.g. when the cluster manager and scheduler are running on separate machines). We'll talk about how to inspect the scheduler's state in these cases later.\n",
    "\n",
    "The scheduler tracks **a lot** of state. Let's start to explore the scheduler to get a sense for what information it keeps track of."
   ]
  },
  {
   "cell_type": "code",
   "execution_count": 6,
   "id": "9ecbccae-91d8-4e42-952a-95e18780ea1c",
   "metadata": {},
   "outputs": [
    {
     "data": {
      "text/plain": [
       "{'tcp://127.0.0.1:61799': <Worker 'tcp://127.0.0.1:61799', name: 2, memory: 1, processing: 0>,\n",
       " 'tcp://127.0.0.1:61802': <Worker 'tcp://127.0.0.1:61802', name: 0, memory: 1, processing: 0>,\n",
       " 'tcp://127.0.0.1:61805': <Worker 'tcp://127.0.0.1:61805', name: 3, memory: 1, processing: 0>,\n",
       " 'tcp://127.0.0.1:61808': <Worker 'tcp://127.0.0.1:61808', name: 1, memory: 1, processing: 0>}"
      ]
     },
     "execution_count": 6,
     "metadata": {},
     "output_type": "execute_result"
    }
   ],
   "source": [
    "dict(scheduler.workers)"
   ]
  },
  {
   "cell_type": "code",
   "execution_count": 9,
   "id": "40af3906-4a32-49f4-8875-8370f62443da",
   "metadata": {},
   "outputs": [
    {
     "data": {
      "text/plain": [
       "distributed.scheduler.WorkerState"
      ]
     },
     "execution_count": 9,
     "metadata": {},
     "output_type": "execute_result"
    }
   ],
   "source": [
    "worker_state = next(iter(scheduler.workers.values()))\n",
    "type(worker_state)"
   ]
  },
  {
   "cell_type": "markdown",
   "id": "f5ba8180-8ef7-4bc7-ae0a-cf7b9708c9e6",
   "metadata": {},
   "source": [
    "Let's take a look at the `WorkerState` attributes"
   ]
  },
  {
   "cell_type": "code",
   "execution_count": 11,
   "id": "cf806b73-e423-4770-846c-26a4f6aee6a1",
   "metadata": {},
   "outputs": [
    {
     "data": {
      "text/plain": [
       "['actors',\n",
       " 'address',\n",
       " 'bandwidth',\n",
       " 'clean',\n",
       " 'executing',\n",
       " 'extra',\n",
       " 'has_what',\n",
       " 'host',\n",
       " 'identity',\n",
       " 'last_seen',\n",
       " 'local_directory',\n",
       " 'memory_limit',\n",
       " 'metrics',\n",
       " 'name',\n",
       " 'nanny',\n",
       " 'nbytes',\n",
       " 'ncores',\n",
       " 'nthreads',\n",
       " 'occupancy',\n",
       " 'pid',\n",
       " 'processing',\n",
       " 'resources',\n",
       " 'services',\n",
       " 'status',\n",
       " 'time_delay',\n",
       " 'used_resources',\n",
       " 'versions']"
      ]
     },
     "execution_count": 11,
     "metadata": {},
     "output_type": "execute_result"
    }
   ],
   "source": [
    "[attr for attr in dir(worker_state) if not attr.startswith(\"_\")]"
   ]
  },
  {
   "cell_type": "code",
   "execution_count": 19,
   "id": "a73d206f-7a65-49f0-8361-3f9e37f5a73a",
   "metadata": {},
   "outputs": [
    {
     "data": {
      "text/plain": [
       "'tcp://127.0.0.1:61799'"
      ]
     },
     "execution_count": 19,
     "metadata": {},
     "output_type": "execute_result"
    }
   ],
   "source": [
    "worker_state.address"
   ]
  },
  {
   "cell_type": "code",
   "execution_count": 21,
   "id": "c0d58de4-ec72-4d16-a77b-f35a05d74563",
   "metadata": {},
   "outputs": [
    {
     "data": {
      "text/plain": [
       "<Status.running: 'running'>"
      ]
     },
     "execution_count": 21,
     "metadata": {},
     "output_type": "execute_result"
    }
   ],
   "source": [
    "worker_state.status"
   ]
  },
  {
   "cell_type": "code",
   "execution_count": 22,
   "id": "24be2aab-a7c7-454d-91f9-78897e32eadb",
   "metadata": {},
   "outputs": [
    {
     "data": {
      "text/plain": [
       "{}"
      ]
     },
     "execution_count": 22,
     "metadata": {},
     "output_type": "execute_result"
    }
   ],
   "source": [
    "worker_state.processing"
   ]
  },
  {
   "cell_type": "code",
   "execution_count": 23,
   "id": "abf2af29-be3e-4d78-a5c2-ca595d380357",
   "metadata": {},
   "outputs": [
    {
     "data": {
      "text/plain": [
       "1618260932.8907268"
      ]
     },
     "execution_count": 23,
     "metadata": {},
     "output_type": "execute_result"
    }
   ],
   "source": [
    "worker_state.last_seen"
   ]
  },
  {
   "cell_type": "code",
   "execution_count": 28,
   "id": "be601b2d-7047-44b2-81c2-5dabd344053c",
   "metadata": {},
   "outputs": [
    {
     "name": "stdout",
     "output_type": "stream",
     "text": [
      "worker_state.last_seen = 1618261037.3917172\n",
      "worker_state.last_seen = 1618261037.8874218\n",
      "worker_state.last_seen = 1618261038.39227\n",
      "worker_state.last_seen = 1618261038.88919\n",
      "worker_state.last_seen = 1618261039.389277\n",
      "worker_state.last_seen = 1618261039.8889751\n",
      "worker_state.last_seen = 1618261040.388266\n",
      "worker_state.last_seen = 1618261040.8895411\n",
      "worker_state.last_seen = 1618261041.390165\n",
      "worker_state.last_seen = 1618261041.8920572\n"
     ]
    }
   ],
   "source": [
    "import time\n",
    "\n",
    "for _ in range(10):\n",
    "    print(f\"{worker_state.last_seen = }\")\n",
    "    time.sleep(0.5)"
   ]
  },
  {
   "cell_type": "code",
   "execution_count": 16,
   "id": "8e414215-dc91-4468-af2f-4119945bca3a",
   "metadata": {},
   "outputs": [
    {
     "data": {
      "text/plain": [
       "{'executing': 0,\n",
       " 'in_memory': 1,\n",
       " 'ready': 0,\n",
       " 'in_flight': 0,\n",
       " 'bandwidth': {'total': 100000000, 'workers': {}, 'types': {}},\n",
       " 'cpu': 4.4,\n",
       " 'memory': 32690176,\n",
       " 'time': 1618260849.389236,\n",
       " 'read_bytes': 8174.082244835135,\n",
       " 'write_bytes': 10217.602806043918,\n",
       " 'num_fds': 29}"
      ]
     },
     "execution_count": 16,
     "metadata": {},
     "output_type": "execute_result"
    }
   ],
   "source": [
    "worker_state.metrics"
   ]
  },
  {
   "cell_type": "code",
   "execution_count": 17,
   "id": "b7fca292-9fda-4c00-b2b9-693c40f49dfa",
   "metadata": {},
   "outputs": [
    {
     "data": {
      "text/plain": [
       "8"
      ]
     },
     "execution_count": 17,
     "metadata": {},
     "output_type": "execute_result"
    }
   ],
   "source": [
    "scheduler.total_nthreads"
   ]
  },
  {
   "cell_type": "markdown",
   "id": "71b05ace-1e10-4716-ae83-f7c659c46d28",
   "metadata": {},
   "source": [
    "# Scheduler and worker plugins"
   ]
  },
  {
   "cell_type": "markdown",
   "id": "68c58042-3b73-43bf-9eb0-dddf0b4c14e4",
   "metadata": {},
   "source": [
    "# Coordination Primitives"
   ]
  }
 ],
 "metadata": {
  "kernelspec": {
   "display_name": "Python 3",
   "language": "python",
   "name": "python3"
  },
  "language_info": {
   "codemirror_mode": {
    "name": "ipython",
    "version": 3
   },
   "file_extension": ".py",
   "mimetype": "text/x-python",
   "name": "python",
   "nbconvert_exporter": "python",
   "pygments_lexer": "ipython3",
   "version": "3.9.2"
  }
 },
 "nbformat": 4,
 "nbformat_minor": 5
}
