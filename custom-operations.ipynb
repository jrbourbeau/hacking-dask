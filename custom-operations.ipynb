{
 "cells": [
  {
   "cell_type": "markdown",
   "id": "alien-franchise",
   "metadata": {},
   "source": [
    "# Advanced Collections: _Custom Operations_\n",
    "\n",
    "There are many algorithms that are pre-defined for different types of Dask collections\n",
    "(such as Arrays, DataFrames and Bags). Sometimes for more niche use-cases, these predefined\n",
    "algorithms are not sufficient.\n",
    "\n",
    "You can wrap arbitrary functions in ``dask.delayed`` to parallelize them,\n",
    "but when you are operating on a Dask collection or several Dask collections,\n",
    "``dask.delayed`` won't understand the organization of your blocks.\n",
    "\n",
    "In these cases there are several different ways in which you can set up\n",
    "custom functions.\n",
    "\n",
    "-   All collections have a ``map_partitions`` or ``map_blocks`` function, that\n",
    "    applies a user provided function across every Pandas dataframe or NumPy array\n",
    "    in the collection.  Because Dask collections are made up of normal Python\n",
    "    objects, it's often straightforward to map custom functions across partitions of a\n",
    "    dataset without much modification.\n",
    "\n",
    "-   More complex ``map_*`` functions.  Sometimes your custom behavior isn't\n",
    "    embarrassingly parallel, but requires more advanced communication.  For\n",
    "    example maybe you need to communicate a little bit of information from one\n",
    "    partition to the next, or maybe you want to build a custom aggregation.\n",
    "\n",
    "    Dask collections include methods for these as well.\n",
    "\n",
    "-   For even more complex workloads you can convert your collections into\n",
    "    individual blocks, and arrange those blocks as you like using Dask Delayed.\n",
    "    There is usually a ``to_delayed`` method on every collection. Note that this\n",
    "    is often the slowest approach.\n",
    "\n",
    "**Related Documentation**\n",
    "\n",
    "  - [Array Tutorial](https://tutorial.dask.org/03_array.html)\n",
    "  - [Best Practices](https://docs.dask.org/en/latest/best-practices.html#learn-techniques-for-customization)\n",
    "\n",
    "## Block Computations\n",
    "Block computations operate on a per-block basis. They are simple to think about, but can be tricky to get right.\n",
    "We'll explore some best practices for setting them up.\n",
    "\n",
    "**Related Documentation**\n",
    "\n",
    "   - [`dask.array.map_blocks`](https://docs.dask.org/en/latest/array-api.html?highlight=map_blocks#dask.array.Array.map_blocks)\n",
    "   - [`dask.dataframe.map_partitions`](http://dask.pydata.org/en/latest/dataframe-api.html#dask.dataframe.DataFrame.map_partitions)"
   ]
  },
  {
   "cell_type": "markdown",
   "id": "floppy-treasury",
   "metadata": {},
   "source": [
    "### Array\n",
    "\n",
    "Here is a straightforward case of `map_blocks` on a Dask array."
   ]
  },
  {
   "cell_type": "code",
   "execution_count": null,
   "id": "civil-wireless",
   "metadata": {},
   "outputs": [],
   "source": [
    "import dask.array as da\n",
    "\n",
    "a = da.arange(0, 6, chunks=3)\n",
    "\n",
    "result = a.map_blocks(lambda x: x ** 2)\n",
    "result.compute()"
   ]
  },
  {
   "cell_type": "markdown",
   "id": "brilliant-support",
   "metadata": {},
   "source": [
    "When we compute the result, we see that every item in ``a`` is squared.\n",
    "\n",
    "This is equivalent to:"
   ]
  },
  {
   "cell_type": "code",
   "execution_count": null,
   "id": "mounted-plaintiff",
   "metadata": {},
   "outputs": [],
   "source": [
    "same = a ** 2\n",
    "same.compute()"
   ]
  },
  {
   "cell_type": "markdown",
   "id": "registered-static",
   "metadata": {},
   "source": [
    "We can use ``.visualize`` to convince ourselves that the task graph for both these\n",
    "operations has the same structure. Two entirely independent \"towers\":"
   ]
  },
  {
   "cell_type": "code",
   "execution_count": null,
   "id": "asian-reverse",
   "metadata": {},
   "outputs": [],
   "source": [
    "result.visualize()"
   ]
  },
  {
   "cell_type": "code",
   "execution_count": null,
   "id": "graphic-summary",
   "metadata": {},
   "outputs": [],
   "source": [
    "same.visualize()"
   ]
  },
  {
   "cell_type": "markdown",
   "id": "manufactured-austria",
   "metadata": {},
   "source": [
    "When the operation is more convoluted it can help to start by writing a function that works as expected\n",
    "on one block before passing it to ``map_blocks``.\n",
    "\n",
    "#### Exercise\n",
    "Write a function that takes the first element of the block and subtracts it from all the following items."
   ]
  },
  {
   "cell_type": "code",
   "execution_count": null,
   "id": "copyrighted-newton",
   "metadata": {
    "jupyter": {
     "source_hidden": true
    }
   },
   "outputs": [],
   "source": [
    "def func(block):\n",
    "    return block - block[0]"
   ]
  },
  {
   "cell_type": "markdown",
   "id": "labeled-magnet",
   "metadata": {},
   "source": [
    "Test the function out on any block of ``a`` (for instance: ``a.blocks[1]``)."
   ]
  },
  {
   "cell_type": "code",
   "execution_count": null,
   "id": "centered-improvement",
   "metadata": {
    "jupyter": {
     "source_hidden": true
    }
   },
   "outputs": [],
   "source": [
    "func(a.blocks[1]).compute()"
   ]
  },
  {
   "cell_type": "markdown",
   "id": "wooden-familiar",
   "metadata": {},
   "source": [
    "Now pass that function to ``map_blocks``"
   ]
  },
  {
   "cell_type": "code",
   "execution_count": null,
   "id": "simple-biotechnology",
   "metadata": {
    "jupyter": {
     "source_hidden": true
    }
   },
   "outputs": [],
   "source": [
    "da.map_blocks(func, a).compute()"
   ]
  },
  {
   "cell_type": "markdown",
   "id": "center-thing",
   "metadata": {},
   "source": [
    "Each block has the same output: `array([0, 1, 2])` since the step is uniform. If you rechunk the array and call `map_blocks` on that new array, you'll get a different result:"
   ]
  },
  {
   "cell_type": "code",
   "execution_count": null,
   "id": "desirable-luxury",
   "metadata": {
    "jupyter": {
     "source_hidden": true
    }
   },
   "outputs": [],
   "source": [
    "da.map_blocks(func, a.rechunk(2)).compute()"
   ]
  },
  {
   "cell_type": "markdown",
   "id": "floating-crazy",
   "metadata": {},
   "source": [
    "#### Multiple arrays\n",
    "\n",
    "Map_blocks can be used to combine several Dask arrays. When multiple arrays are passed, ``map_blocks``\n",
    "aligns blocks by block positions without regard to shape.\n",
    "\n",
    "In the following example we have two arrays with the same number of blocks\n",
    "but with different shape and chunk sizes."
   ]
  },
  {
   "cell_type": "code",
   "execution_count": null,
   "id": "genetic-finance",
   "metadata": {},
   "outputs": [],
   "source": [
    "import numpy as np\n",
    "import dask.array as da\n",
    "\n",
    "x = da.arange(1000, chunks=(100,))\n",
    "y = da.arange(100, chunks=(10,))\n",
    "\n",
    "def func(a, b):\n",
    "    return np.array([a.max(), b.max()])\n",
    "\n",
    "da.map_blocks(func, x, y, chunks=(2,))"
   ]
  },
  {
   "cell_type": "markdown",
   "id": "swedish-kidney",
   "metadata": {},
   "source": [
    "In the example above we explicitly declare what the size of the output chunks will be ``chunks=(2,)`` this\n",
    "is short-hand for ``chunks=((2, 2, 2, 2, 2, 2, 2, 2, 2, 2,),)`` meaning 10 blocks each with shape ``(2,)``.\n",
    "You can see the shape and chunk information from the array in the representation above.\n",
    "\n",
    "> Specifying the output chunks is very useful when doing more involved operations with ``map_blocks``\n",
    "\n",
    "#### Exercise\n",
    "\n",
    "See what happens when you don't specify ``chunks`` in the operation above."
   ]
  },
  {
   "cell_type": "markdown",
   "id": "durable-particular",
   "metadata": {},
   "source": [
    "#### Special arguments\n",
    "\n",
    "There are special arguments (``block_info`` and ``block_id``) that you can use within ``map_blocks`` functions.\n",
    "Let's use the case from above and print ``block_info`` so that we can get a sense of what's going on:"
   ]
  },
  {
   "cell_type": "code",
   "execution_count": null,
   "id": "modular-silly",
   "metadata": {},
   "outputs": [],
   "source": [
    "import numpy as np\n",
    "import dask.array as da\n",
    "\n",
    "x = da.arange(1000, chunks=(100,))\n",
    "y = da.arange(100, chunks=(10,))\n",
    "\n",
    "def func(a, b, block_info=None):\n",
    "    print(block_info)\n",
    "    return np.array([a.max(), b.max()])\n",
    "\n",
    "da.map_blocks(func, x, y, chunks=(2,)).compute()"
   ]
  },
  {
   "cell_type": "markdown",
   "id": "identical-township",
   "metadata": {},
   "source": [
    "One of the use cases for the ``block_info`` and ``block_id`` arguments is to create an array from scratch.\n",
    "\n",
    "In the following example we first create an empty array with the desired number of chunks: 10x10. Then we\n",
    "fill each chunk with data based on the starting positions of that block."
   ]
  },
  {
   "cell_type": "code",
   "execution_count": null,
   "id": "emotional-thong",
   "metadata": {},
   "outputs": [],
   "source": [
    "import numpy as np\n",
    "import dask.array as da\n",
    "\n",
    "x = da.empty(100, shape=(10, 10), chunks=(1, 1))\n",
    "\n",
    "def generate_data(a, block_id=None):\n",
    "    ii, jj = block_id\n",
    "    return np.arange(ii*200, (ii+1)*200).reshape((10, 20))\n",
    "\n",
    "da.map_blocks(generate_data, x, chunks=(10, 20), dtype=int)"
   ]
  },
  {
   "cell_type": "markdown",
   "id": "supported-paint",
   "metadata": {},
   "source": [
    "This example might feel contrived, but it can be useful when creating custom IO operations\n",
    "especially in a distributed context.\n",
    "\n",
    "#### Exercise\n",
    "\n",
    "Say you have a set of images that each represent a particular portion of a scene. How can you use the\n",
    "technique we just learned to patch them together? There's a puzzle in the puzzle directory:"
   ]
  },
  {
   "cell_type": "code",
   "execution_count": null,
   "id": "superb-classic",
   "metadata": {},
   "outputs": [],
   "source": [
    "from imageio import imread\n",
    "import matplotlib.pyplot as plt\n",
    "\n",
    "image = imread(\"puzzle/bicycle.png\")\n",
    "plt.imshow(image)"
   ]
  },
  {
   "cell_type": "markdown",
   "id": "retained-marketing",
   "metadata": {},
   "source": [
    "Now use ``map_blocks`` to read in the puzzle pieces from \"bicycle_ii_jj.png\""
   ]
  },
  {
   "cell_type": "code",
   "execution_count": null,
   "id": "outdoor-import",
   "metadata": {
    "jupyter": {
     "source_hidden": true
    }
   },
   "outputs": [],
   "source": [
    "from imageio import imread\n",
    "import matplotlib.pyplot as plt\n",
    "\n",
    "a = da.empty(shape=(2, 2, 4), chunks=((1, 1), (1, 1), (4,)))\n",
    "\n",
    "def reader(block, block_id=None):\n",
    "    ii, jj, _ = block_id\n",
    "    return imread(f\"puzzle/bicycle_{ii}_{jj}.png\")\n",
    "\n",
    "result = da.map_blocks(reader, a, dtype=int, chunks=((24, 24), (24, 24), (4)))\n",
    "plt.imshow(result)"
   ]
  },
  {
   "cell_type": "markdown",
   "id": "filled-assignment",
   "metadata": {},
   "source": [
    "### DataFrame\n",
    "\n",
    "In Dask dataframe there is a similar method do ``map_blocks`` but it is called ``map_partitions``.\n",
    "\n",
    "Here is an example of using it to check if the sum of two columns is greater than some\n",
    "arbitrary ``threshold``."
   ]
  },
  {
   "cell_type": "code",
   "execution_count": null,
   "id": "floating-madison",
   "metadata": {},
   "outputs": [],
   "source": [
    "import pandas as pd\n",
    "import dask.dataframe as dd\n",
    "\n",
    "df = pd.DataFrame({'x': [1, 2, 3, 4, 5],\n",
    "                   'y': [1., 2., 3., 4., 5.]})\n",
    "ddf = dd.from_pandas(df, npartitions=2)\n",
    "\n",
    "result = ddf.map_partitions(lambda df, threshold: (df.x + df.y) > threshold, threshold=4)\n",
    "result.compute()"
   ]
  },
  {
   "cell_type": "markdown",
   "id": "vietnamese-cycling",
   "metadata": {},
   "source": [
    "#### Internal uses\n",
    "In practice ``map_partitions`` is used to implement many of the helper dataframe methods\n",
    "that let Dask dataframe mimic Pandas. Here is the implementation of `ddf.index` for instance:\n",
    "\n",
    "```python\n",
    "@property\n",
    "def index(self):\n",
    "    \"\"\"Return dask Index instance\"\"\"\n",
    "    return self.map_partitions(\n",
    "        getattr,\n",
    "        \"index\",\n",
    "        token=self._name + \"-index\",\n",
    "        meta=self._meta.index,\n",
    "        enforce_metadata=False,\n",
    "    )\n",
    "```\n",
    "\n",
    "[source](https://github.com/dask/dask/blob/09862ed99a02bf3a617ac53b116f9ecf81eea338/dask/dataframe/core.py#L458-L467)\n",
    "\n",
    "### When not to use ``map_blocks`` or ``map_partitions``\n",
    "\n",
    "Both ``map_blocks`` and ``map_partitions`` operate on each block in isolation. This\n",
    "makes them ill-suited for operations that depend on outcomes in other chunks.\n",
    "It also means that there will always be at least one result per block.\n",
    "\n",
    "When you need the edges of one block in the next block you can use overlapping computations.\n",
    "\n",
    "## Overlapping Computations\n",
    "Sometimes you want to operate on a per-block basis, but you need some information from neighboring blocks. Example operations include the following:\n",
    "\n",
    "- Convolve a filter across an image\n",
    "- Rolling sum/mean/max, …\n",
    "- Search for image motifs like a Gaussian blob that might span the border of a block\n",
    "- Evaluate a partial derivative\n",
    "\n",
    "Dask Array supports these operations by creating a new array where each block is slightly expanded by the borders of its neighbors. This costs an excess copy and the communication of many small chunks, but allows localized functions to evaluate in an embarrassingly parallel manner.\n",
    "\n",
    "**Related Documentation**\n",
    "   - [Array Overlap](https://docs.dask.org/en/latest/array-overlap.html)\n",
    "\n",
    "The main API for these computations is the ``map_overlap`` method. The ``map_overlap`` method is very similar to ``map_blocks`` but has the additional arguments: ``depth``, ``boundary``, and ``trim``.\n",
    "\n",
    "Here is an example of calculating the derivative:"
   ]
  },
  {
   "cell_type": "code",
   "execution_count": null,
   "id": "growing-raising",
   "metadata": {},
   "outputs": [],
   "source": [
    "import numpy as np\n",
    "import dask.array as da\n",
    "\n",
    "x = np.array([1, 1, 2, 3, 3, 3, 2, 1, 1])\n",
    "x = da.from_array(x, chunks=5)\n",
    "\n",
    "def derivative(x):\n",
    "    return x - np.roll(x, 1)\n",
    "\n",
    "y = x.map_overlap(derivative, depth=1, boundary=0)\n",
    "y.compute()"
   ]
  },
  {
   "cell_type": "markdown",
   "id": "immediate-performance",
   "metadata": {},
   "source": [
    "In this case each block shares 1 value from its neighboring block: ``depth``. And since we set ``boundary=0``on the outer edges of the array, the first and last block are padded with the integer 0.\n",
    "\n",
    "Since we haven't specified ``trim`` it is true by default meaning that the overlap is removed before returning the results.\n",
    "\n",
    "![](https://docs.dask.org/en/latest/_images/overlapping-neighbors.png)\n",
    "\n",
    "If you inspect the task graph you'll see two mostly independent towers of tasks, with just some value sharing at the edges."
   ]
  },
  {
   "cell_type": "code",
   "execution_count": null,
   "id": "intimate-simon",
   "metadata": {},
   "outputs": [],
   "source": [
    "y.visualize(optimize_graph=True)"
   ]
  },
  {
   "cell_type": "markdown",
   "id": "former-twelve",
   "metadata": {},
   "source": [
    "### Exercise\n",
    "Lets apply a gaussian filter to an image following the example from the [scipy docs](https://docs.scipy.org/doc/scipy/reference/generated/scipy.ndimage.gaussian_filter.html).\n",
    "\n",
    "First create a dask array from the numpy array:"
   ]
  },
  {
   "cell_type": "code",
   "execution_count": null,
   "id": "entitled-tissue",
   "metadata": {},
   "outputs": [],
   "source": [
    "from scipy import misc\n",
    "import dask.array as da\n",
    "\n",
    "a = da.from_array(misc.ascent(), chunks=(128, 128))\n",
    "a"
   ]
  },
  {
   "cell_type": "markdown",
   "id": "coordinated-resistance",
   "metadata": {},
   "source": [
    "Now use ``map_overlap`` to apply ``gausian_filter`` to each block."
   ]
  },
  {
   "cell_type": "code",
   "execution_count": null,
   "id": "fifth-billy",
   "metadata": {
    "jupyter": {
     "source_hidden": true
    }
   },
   "outputs": [],
   "source": [
    "from scipy.ndimage import gaussian_filter\n",
    "\n",
    "b = a.map_overlap(gaussian_filter, depth=10, sigma=5, boundary=\"periodic\")"
   ]
  },
  {
   "cell_type": "markdown",
   "id": "processed-helicopter",
   "metadata": {},
   "source": [
    "Now we can plot the results:"
   ]
  },
  {
   "cell_type": "code",
   "execution_count": null,
   "id": "wrong-month",
   "metadata": {},
   "outputs": [],
   "source": [
    "import matplotlib.pyplot as plt\n",
    "\n",
    "fig, (ax1, ax2) = plt.subplots(1, 2)\n",
    "ax1.imshow(a)\n",
    "ax2.imshow(b)\n",
    "plt.show()"
   ]
  },
  {
   "cell_type": "markdown",
   "id": "spiritual-scanner",
   "metadata": {},
   "source": [
    "Notice that if you set the depth to a smaller value, you can see the edges of the blocks in the output image.\n",
    "\n",
    "## Blockwise Computations\n",
    "\n",
    "Blockwise computations provide the infrastructure for implementing ``map_blocks`` and many\n",
    "of the elementwise methods that make up the Array API.\n",
    "\n",
    "They present a really powerful way of implementing matrix operations.\n",
    "\n",
    "**Related Documentation**\n",
    "\n",
    "   - [API Documentation](https://docs.dask.org/en/latest/array-api.html#dask.array.blockwise)\n",
    "   \n",
    "\n",
    "Let's look at an example of summing two arrays blockwise. "
   ]
  },
  {
   "cell_type": "code",
   "execution_count": null,
   "id": "inside-choice",
   "metadata": {},
   "outputs": [],
   "source": [
    "import dask.array as da\n",
    "import operator, numpy as np, dask.array as da\n",
    "\n",
    "x = da.from_array([[1, 2],\n",
    "                   [3, 4]], chunks=(1, 2))\n",
    "y = da.from_array([[10, 20],\n",
    "                   [0, 0]])\n",
    "z = da.blockwise(operator.add, 'ij', x, 'ij', y, 'ij')\n",
    "z.compute()"
   ]
  },
  {
   "cell_type": "markdown",
   "id": "aerial-sheffield",
   "metadata": {},
   "source": [
    "Try switching the block pattern of the output:"
   ]
  },
  {
   "cell_type": "code",
   "execution_count": null,
   "id": "dramatic-engine",
   "metadata": {},
   "outputs": [],
   "source": [
    "z = da.blockwise(operator.add, 'ji', x, 'ij', y, 'ij')\n",
    "z.compute()"
   ]
  },
  {
   "cell_type": "markdown",
   "id": "spare-earth",
   "metadata": {},
   "source": [
    "In each of these case the outcome for each block is the same. But in the first case\n",
    "the blocks are stacked vertically (`shape=(2, 2)`) and in the second they are placed \n",
    "side-by-side (`shape=(1, 4)`) "
   ]
  },
  {
   "cell_type": "markdown",
   "id": "asian-rental",
   "metadata": {},
   "source": [
    "### Internal uses\n",
    "\n",
    "This is the internal definition of transpose on dask.Array. In it you can see that there is a\n",
    "regular ``np.transpose`` applied within each block and then the blocks are themselves transposed.\n",
    "\n",
    "```python\n",
    "def transpose(a, axes=None):\n",
    "    if axes:\n",
    "        if len(axes) != a.ndim:\n",
    "            raise ValueError(\"axes don't match array\")\n",
    "    else:\n",
    "        axes = tuple(range(a.ndim))[::-1]\n",
    "    axes = tuple(d + a.ndim if d < 0 else d for d in axes)\n",
    "    return blockwise(\n",
    "        np.transpose, axes, a, tuple(range(a.ndim)), dtype=a.dtype, axes=axes\n",
    "    )\n",
    "```\n",
    "\n",
    "[source](https://github.com/dask/dask/blob/4569b150db36af0aa9d9a8d318b4239a78e2eaec/dask/array/routines.py#L161:L170)\n",
    "\n",
    "## Reduction\n",
    "All of the methods that we have covered so far assume that the output array will be similar to the input array. But where dask really shines is with aggregations. Each dask collection has a `reduction` method that is the generalized method that supports operations that reduce the dimensionality of the inputs.\n",
    "\n",
    "**Related Documentation**\n",
    "   - [`dask.array.reduction`](http://dask.pydata.org/en/latest/array-api.html#dask.dataframe.Array.reduction)\n",
    "   - [`dask.dataframe.reduction`](http://dask.pydata.org/en/latest/dataframe-api.html#dask.dataframe.DataFrame.reduction)"
   ]
  },
  {
   "cell_type": "markdown",
   "id": "engaged-analysis",
   "metadata": {},
   "source": [
    "### Internal uses\n",
    "\n",
    "This is the internal definition of sum on dask.Array. In it you can see that there is a\n",
    "regular ``np.sum`` applied across each block and then tree-reduced with ``np.sum`` again.\n",
    "\n",
    "```python\n",
    "def sum(a, axis=None, dtype=None, keepdims=False, split_every=None, out=None):\n",
    "    if dtype is None:\n",
    "        dtype = getattr(np.zeros(1, dtype=a.dtype).sum(), \"dtype\", object)\n",
    "    result = reduction(\n",
    "        a,\n",
    "        chunk.sum,  # this is just `np.sum`\n",
    "        chunk.sum,  # this is just `np.sum`\n",
    "        axis=axis,\n",
    "        keepdims=keepdims,\n",
    "        dtype=dtype,\n",
    "        split_every=split_every,\n",
    "        out=out,\n",
    "    )\n",
    "    return result\n",
    "```"
   ]
  },
  {
   "cell_type": "markdown",
   "id": "earlier-breathing",
   "metadata": {},
   "source": [
    "In this case the  ``chunk``, ``combine`` and ``aggregate`` functions are all the same."
   ]
  },
  {
   "cell_type": "code",
   "execution_count": null,
   "id": "casual-egypt",
   "metadata": {},
   "outputs": [],
   "source": [
    "import numpy as np\n",
    "import dask.array as da\n",
    "\n",
    "a = da.from_array(np.arange(1000000).reshape(1000, 1000), chunks=(500, 200))\n",
    "b = a.sum()"
   ]
  },
  {
   "cell_type": "markdown",
   "id": "suspected-austin",
   "metadata": {},
   "source": [
    "By visualizing `b` we can see how the tree reduction works. First the ``chunk`` function is applied to each block, then every 4 chunks are combined using the ``combine`` function. This keeps going until there are only 2 chunks left, then the ``aggregate`` function is used to finish up.\n",
    "\n",
    "### Exercise\n",
    "\n",
    "See how the graph changes when you set the chunks to `(500, 500)` or `(500, 300)`"
   ]
  },
  {
   "cell_type": "markdown",
   "id": "joined-officer",
   "metadata": {},
   "source": [
    "### Controlling reduction with kwargs\n",
    "\n",
    "There are a few handy keyword arguments that you can use to control the shape of the task graph.\n",
    "\n",
    "The most useful of these are ``split_every`` which controls the number of chunk outputs that are used as input to each ``combine`` call. Try setting split_every on ``a.sum(split_every={0: 2, 1: 5})`` and visualizing the task graph to see the impact.\n",
    "\n",
    "> **Side note**\n",
    "> You can use reductions to calculate aggregations per-block reduction even if you don't want to combine and aggregate the results of those blocks:\n",
    ">\n",
    "> ```python\n",
    "> da.reduction(a, np.sum, lambda x, **kwargs: x, dtype=int).compute()\n",
    "> ```"
   ]
  },
  {
   "cell_type": "markdown",
   "id": "honey-closure",
   "metadata": {},
   "source": [
    "## Groupby Aggregation\n",
    "\n",
    "There are many standard reductions supported by default on dataframe groupbys. These include methods like `mean, max, min, sum, nunique`. These are easily scaled and parallelized.\n",
    "\n",
    "**Related Documentation**\n",
    "\n",
    "   - [DataFrame Groupby](https://docs.dask.org/en/latest/dataframe-groupby.html#aggregate)\n",
    "   - [Examples](https://examples.dask.org/dataframes/02-groupby.html)\n",
    "\n",
    "If you are trying to run a custom function on the groups in a groupby it can be tempting to use `.apply` but this is often a poor choice because it requires that the data be shuffled. Instead you should try writing a custom aggregation.\n",
    "\n",
    "In order to do that you need to write three functions:\n",
    "\n",
    "- `chunk`: operates on the series groupby on each individual partition (`ddf.partitions[0].groupby(\"name\")[\"x\"]`)\n",
    "- `aggregate`: operates on the concatenated output from calling chunk on every partition\n",
    "- `finalize`: operates on the output from calling aggregate - returns one column. This one is actually optional.\n",
    "\n",
    "Here's an example of a custom aggregation for calculating the mean."
   ]
  },
  {
   "cell_type": "code",
   "execution_count": null,
   "id": "electrical-tourist",
   "metadata": {},
   "outputs": [],
   "source": [
    "import dask\n",
    "import dask.dataframe as dd\n",
    "\n",
    "ddf = dask.datasets.timeseries()\n",
    "\n",
    "custom_mean = dd.Aggregation(\n",
    "    'custom_mean',\n",
    "    lambda s: (s.count(), s.sum()),\n",
    "    lambda count, sum: (count.sum(), sum.sum()),\n",
    "    lambda count, sum: sum / count,\n",
    ")\n",
    "custom_result = ddf.groupby('name').agg(custom_mean)\n",
    "custom_result.head()"
   ]
  },
  {
   "cell_type": "markdown",
   "id": "frozen-stake",
   "metadata": {},
   "source": [
    "Here is how it works:\n",
    "\n",
    "- every partition (one per day) group by ``name``\n",
    "- on each of those pandas series groupby objects calculate the `count` and the `sum`\n",
    "- concatenate every 8 (this is configurable) outputs together\n",
    "- sum of each of these\n",
    "- finally: divide the `sum` by the `count`\n",
    "\n",
    "This is equivalent to:"
   ]
  },
  {
   "cell_type": "code",
   "execution_count": null,
   "id": "suspended-farmer",
   "metadata": {},
   "outputs": [],
   "source": [
    "simple_result = ddf.groupby('name').mean()\n",
    "simple_result.head()"
   ]
  },
  {
   "cell_type": "markdown",
   "id": "given-screening",
   "metadata": {},
   "source": [
    "> NOTE: If you look at the task graph you'll see that the structure of the computation is actually pretty different. That's because `.mean` computes the `sum` and the `count` independently and only combines the values at the end."
   ]
  },
  {
   "cell_type": "code",
   "execution_count": null,
   "id": "compliant-charm",
   "metadata": {},
   "outputs": [],
   "source": [
    "custom_result.visualize()"
   ]
  },
  {
   "cell_type": "code",
   "execution_count": null,
   "id": "express-reader",
   "metadata": {},
   "outputs": [],
   "source": [
    "simple_result.visualize()"
   ]
  },
  {
   "cell_type": "markdown",
   "id": "black-south",
   "metadata": {},
   "source": [
    "Similarly you could use apply (**DON'T DO THIS**)\n",
    "\n",
    "```python\n",
    "ddf.groupby(\"name\").apply(lambda x: x.mean())\n",
    "```\n",
    "\n",
    "This will shuffle the data so that all the data for a particular name is in the same partition. If you call `.compute()` on it you'll notice that it's much slower (about 50x on my computer)."
   ]
  },
  {
   "cell_type": "markdown",
   "id": "precious-finance",
   "metadata": {},
   "source": [
    "### Exercise\n",
    "\n",
    "Write a custom aggregation to calculate `value_counts`."
   ]
  },
  {
   "cell_type": "code",
   "execution_count": null,
   "id": "exceptional-mistress",
   "metadata": {
    "jupyter": {
     "source_hidden": true
    }
   },
   "outputs": [],
   "source": [
    "import dask\n",
    "import dask.dataframe as dd\n",
    "\n",
    "ddf = dask.datasets.timeseries()\n",
    "\n",
    "custom_value_counts = dd.Aggregation(\n",
    "    'custom_value_counts',\n",
    "    lambda s: s.value_counts(),\n",
    "    lambda counts: counts.sum(),\n",
    ")\n",
    "ddf.groupby('name').agg(custom_value_counts)"
   ]
  }
 ],
 "metadata": {
  "jupytext": {
   "cell_metadata_filter": "-all",
   "main_language": "python",
   "notebook_metadata_filter": "-all",
   "text_representation": {
    "extension": ".md",
    "format_name": "markdown"
   }
  },
  "kernelspec": {
   "display_name": "Python 3",
   "language": "python",
   "name": "python3"
  },
  "language_info": {
   "codemirror_mode": {
    "name": "ipython",
    "version": 3
   },
   "file_extension": ".py",
   "mimetype": "text/x-python",
   "name": "python",
   "nbconvert_exporter": "python",
   "pygments_lexer": "ipython3",
   "version": "3.8.6"
  }
 },
 "nbformat": 4,
 "nbformat_minor": 5
}
